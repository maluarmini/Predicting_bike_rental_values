{
  "nbformat": 4,
  "nbformat_minor": 0,
  "metadata": {
    "colab": {
      "name": "Predicting Bike Rental Values.ipynb",
      "provenance": [],
      "collapsed_sections": []
    },
    "kernelspec": {
      "name": "python3",
      "display_name": "Python 3"
    },
    "language_info": {
      "name": "python"
    }
  },
  "cells": [
    {
      "cell_type": "code",
      "metadata": {
        "id": "loYyf4VWVmoi"
      },
      "source": [
        "import pandas as pd\n",
        "import numpy as np\n",
        "import matplotlib.pyplot as plt\n",
        "import seaborn as sns\n",
        "from sklearn.linear_model import LinearRegression\n",
        "from sklearn.metrics import mean_squared_error\n",
        "from sklearn.tree import DecisionTreeRegressor\n",
        "from sklearn.ensemble import RandomForestRegressor\n",
        "%matplotlib inline"
      ],
      "execution_count": 10,
      "outputs": []
    },
    {
      "cell_type": "code",
      "metadata": {
        "id": "pjYX3bi0WLl0",
        "colab": {
          "base_uri": "https://localhost:8080/"
        },
        "outputId": "3613259e-5ed4-4338-88e0-379f0dcf0c9f"
      },
      "source": [
        "from google.colab import drive\n",
        "drive.mount('/content/drive')"
      ],
      "execution_count": 11,
      "outputs": [
        {
          "output_type": "stream",
          "text": [
            "Mounted at /content/drive\n"
          ],
          "name": "stdout"
        }
      ]
    },
    {
      "cell_type": "code",
      "metadata": {
        "id": "M7mfvqA_Z5zz"
      },
      "source": [
        "bike_rentals = pd.read_csv(\"/content/drive/My Drive/bike_rental_hour.csv\")"
      ],
      "execution_count": 12,
      "outputs": []
    },
    {
      "cell_type": "code",
      "metadata": {
        "id": "Ptyp_xG1bB_z",
        "colab": {
          "base_uri": "https://localhost:8080/",
          "height": 204
        },
        "outputId": "b0423836-5463-4efd-afef-d99c12887017"
      },
      "source": [
        "bike_rentals.head()"
      ],
      "execution_count": 13,
      "outputs": [
        {
          "output_type": "execute_result",
          "data": {
            "text/html": [
              "<div>\n",
              "<style scoped>\n",
              "    .dataframe tbody tr th:only-of-type {\n",
              "        vertical-align: middle;\n",
              "    }\n",
              "\n",
              "    .dataframe tbody tr th {\n",
              "        vertical-align: top;\n",
              "    }\n",
              "\n",
              "    .dataframe thead th {\n",
              "        text-align: right;\n",
              "    }\n",
              "</style>\n",
              "<table border=\"1\" class=\"dataframe\">\n",
              "  <thead>\n",
              "    <tr style=\"text-align: right;\">\n",
              "      <th></th>\n",
              "      <th>instant</th>\n",
              "      <th>dteday</th>\n",
              "      <th>season</th>\n",
              "      <th>yr</th>\n",
              "      <th>mnth</th>\n",
              "      <th>hr</th>\n",
              "      <th>holiday</th>\n",
              "      <th>weekday</th>\n",
              "      <th>workingday</th>\n",
              "      <th>weathersit</th>\n",
              "      <th>temp</th>\n",
              "      <th>atemp</th>\n",
              "      <th>hum</th>\n",
              "      <th>windspeed</th>\n",
              "      <th>casual</th>\n",
              "      <th>registered</th>\n",
              "      <th>cnt</th>\n",
              "    </tr>\n",
              "  </thead>\n",
              "  <tbody>\n",
              "    <tr>\n",
              "      <th>0</th>\n",
              "      <td>1</td>\n",
              "      <td>2011-01-01</td>\n",
              "      <td>1</td>\n",
              "      <td>0</td>\n",
              "      <td>1</td>\n",
              "      <td>0</td>\n",
              "      <td>0</td>\n",
              "      <td>6</td>\n",
              "      <td>0</td>\n",
              "      <td>1</td>\n",
              "      <td>0.24</td>\n",
              "      <td>0.2879</td>\n",
              "      <td>0.81</td>\n",
              "      <td>0.0</td>\n",
              "      <td>3</td>\n",
              "      <td>13</td>\n",
              "      <td>16</td>\n",
              "    </tr>\n",
              "    <tr>\n",
              "      <th>1</th>\n",
              "      <td>2</td>\n",
              "      <td>2011-01-01</td>\n",
              "      <td>1</td>\n",
              "      <td>0</td>\n",
              "      <td>1</td>\n",
              "      <td>1</td>\n",
              "      <td>0</td>\n",
              "      <td>6</td>\n",
              "      <td>0</td>\n",
              "      <td>1</td>\n",
              "      <td>0.22</td>\n",
              "      <td>0.2727</td>\n",
              "      <td>0.80</td>\n",
              "      <td>0.0</td>\n",
              "      <td>8</td>\n",
              "      <td>32</td>\n",
              "      <td>40</td>\n",
              "    </tr>\n",
              "    <tr>\n",
              "      <th>2</th>\n",
              "      <td>3</td>\n",
              "      <td>2011-01-01</td>\n",
              "      <td>1</td>\n",
              "      <td>0</td>\n",
              "      <td>1</td>\n",
              "      <td>2</td>\n",
              "      <td>0</td>\n",
              "      <td>6</td>\n",
              "      <td>0</td>\n",
              "      <td>1</td>\n",
              "      <td>0.22</td>\n",
              "      <td>0.2727</td>\n",
              "      <td>0.80</td>\n",
              "      <td>0.0</td>\n",
              "      <td>5</td>\n",
              "      <td>27</td>\n",
              "      <td>32</td>\n",
              "    </tr>\n",
              "    <tr>\n",
              "      <th>3</th>\n",
              "      <td>4</td>\n",
              "      <td>2011-01-01</td>\n",
              "      <td>1</td>\n",
              "      <td>0</td>\n",
              "      <td>1</td>\n",
              "      <td>3</td>\n",
              "      <td>0</td>\n",
              "      <td>6</td>\n",
              "      <td>0</td>\n",
              "      <td>1</td>\n",
              "      <td>0.24</td>\n",
              "      <td>0.2879</td>\n",
              "      <td>0.75</td>\n",
              "      <td>0.0</td>\n",
              "      <td>3</td>\n",
              "      <td>10</td>\n",
              "      <td>13</td>\n",
              "    </tr>\n",
              "    <tr>\n",
              "      <th>4</th>\n",
              "      <td>5</td>\n",
              "      <td>2011-01-01</td>\n",
              "      <td>1</td>\n",
              "      <td>0</td>\n",
              "      <td>1</td>\n",
              "      <td>4</td>\n",
              "      <td>0</td>\n",
              "      <td>6</td>\n",
              "      <td>0</td>\n",
              "      <td>1</td>\n",
              "      <td>0.24</td>\n",
              "      <td>0.2879</td>\n",
              "      <td>0.75</td>\n",
              "      <td>0.0</td>\n",
              "      <td>0</td>\n",
              "      <td>1</td>\n",
              "      <td>1</td>\n",
              "    </tr>\n",
              "  </tbody>\n",
              "</table>\n",
              "</div>"
            ],
            "text/plain": [
              "   instant      dteday  season  yr  ...  windspeed  casual  registered  cnt\n",
              "0        1  2011-01-01       1   0  ...        0.0       3          13   16\n",
              "1        2  2011-01-01       1   0  ...        0.0       8          32   40\n",
              "2        3  2011-01-01       1   0  ...        0.0       5          27   32\n",
              "3        4  2011-01-01       1   0  ...        0.0       3          10   13\n",
              "4        5  2011-01-01       1   0  ...        0.0       0           1    1\n",
              "\n",
              "[5 rows x 17 columns]"
            ]
          },
          "metadata": {
            "tags": []
          },
          "execution_count": 13
        }
      ]
    },
    {
      "cell_type": "code",
      "metadata": {
        "id": "ToNgYdiobFrb",
        "colab": {
          "base_uri": "https://localhost:8080/",
          "height": 317
        },
        "outputId": "caa077e9-93a4-41d4-ed26-5411295a574e"
      },
      "source": [
        "bike_rentals.describe()"
      ],
      "execution_count": 14,
      "outputs": [
        {
          "output_type": "execute_result",
          "data": {
            "text/html": [
              "<div>\n",
              "<style scoped>\n",
              "    .dataframe tbody tr th:only-of-type {\n",
              "        vertical-align: middle;\n",
              "    }\n",
              "\n",
              "    .dataframe tbody tr th {\n",
              "        vertical-align: top;\n",
              "    }\n",
              "\n",
              "    .dataframe thead th {\n",
              "        text-align: right;\n",
              "    }\n",
              "</style>\n",
              "<table border=\"1\" class=\"dataframe\">\n",
              "  <thead>\n",
              "    <tr style=\"text-align: right;\">\n",
              "      <th></th>\n",
              "      <th>instant</th>\n",
              "      <th>season</th>\n",
              "      <th>yr</th>\n",
              "      <th>mnth</th>\n",
              "      <th>hr</th>\n",
              "      <th>holiday</th>\n",
              "      <th>weekday</th>\n",
              "      <th>workingday</th>\n",
              "      <th>weathersit</th>\n",
              "      <th>temp</th>\n",
              "      <th>atemp</th>\n",
              "      <th>hum</th>\n",
              "      <th>windspeed</th>\n",
              "      <th>casual</th>\n",
              "      <th>registered</th>\n",
              "      <th>cnt</th>\n",
              "    </tr>\n",
              "  </thead>\n",
              "  <tbody>\n",
              "    <tr>\n",
              "      <th>count</th>\n",
              "      <td>17379.0000</td>\n",
              "      <td>17379.000000</td>\n",
              "      <td>17379.000000</td>\n",
              "      <td>17379.000000</td>\n",
              "      <td>17379.000000</td>\n",
              "      <td>17379.000000</td>\n",
              "      <td>17379.000000</td>\n",
              "      <td>17379.000000</td>\n",
              "      <td>17379.000000</td>\n",
              "      <td>17379.000000</td>\n",
              "      <td>17379.000000</td>\n",
              "      <td>17379.000000</td>\n",
              "      <td>17379.000000</td>\n",
              "      <td>17379.000000</td>\n",
              "      <td>17379.000000</td>\n",
              "      <td>17379.000000</td>\n",
              "    </tr>\n",
              "    <tr>\n",
              "      <th>mean</th>\n",
              "      <td>8690.0000</td>\n",
              "      <td>2.501640</td>\n",
              "      <td>0.502561</td>\n",
              "      <td>6.537775</td>\n",
              "      <td>11.546752</td>\n",
              "      <td>0.028770</td>\n",
              "      <td>3.003683</td>\n",
              "      <td>0.682721</td>\n",
              "      <td>1.425283</td>\n",
              "      <td>0.496987</td>\n",
              "      <td>0.475775</td>\n",
              "      <td>0.627229</td>\n",
              "      <td>0.190098</td>\n",
              "      <td>35.676218</td>\n",
              "      <td>153.786869</td>\n",
              "      <td>189.463088</td>\n",
              "    </tr>\n",
              "    <tr>\n",
              "      <th>std</th>\n",
              "      <td>5017.0295</td>\n",
              "      <td>1.106918</td>\n",
              "      <td>0.500008</td>\n",
              "      <td>3.438776</td>\n",
              "      <td>6.914405</td>\n",
              "      <td>0.167165</td>\n",
              "      <td>2.005771</td>\n",
              "      <td>0.465431</td>\n",
              "      <td>0.639357</td>\n",
              "      <td>0.192556</td>\n",
              "      <td>0.171850</td>\n",
              "      <td>0.192930</td>\n",
              "      <td>0.122340</td>\n",
              "      <td>49.305030</td>\n",
              "      <td>151.357286</td>\n",
              "      <td>181.387599</td>\n",
              "    </tr>\n",
              "    <tr>\n",
              "      <th>min</th>\n",
              "      <td>1.0000</td>\n",
              "      <td>1.000000</td>\n",
              "      <td>0.000000</td>\n",
              "      <td>1.000000</td>\n",
              "      <td>0.000000</td>\n",
              "      <td>0.000000</td>\n",
              "      <td>0.000000</td>\n",
              "      <td>0.000000</td>\n",
              "      <td>1.000000</td>\n",
              "      <td>0.020000</td>\n",
              "      <td>0.000000</td>\n",
              "      <td>0.000000</td>\n",
              "      <td>0.000000</td>\n",
              "      <td>0.000000</td>\n",
              "      <td>0.000000</td>\n",
              "      <td>1.000000</td>\n",
              "    </tr>\n",
              "    <tr>\n",
              "      <th>25%</th>\n",
              "      <td>4345.5000</td>\n",
              "      <td>2.000000</td>\n",
              "      <td>0.000000</td>\n",
              "      <td>4.000000</td>\n",
              "      <td>6.000000</td>\n",
              "      <td>0.000000</td>\n",
              "      <td>1.000000</td>\n",
              "      <td>0.000000</td>\n",
              "      <td>1.000000</td>\n",
              "      <td>0.340000</td>\n",
              "      <td>0.333300</td>\n",
              "      <td>0.480000</td>\n",
              "      <td>0.104500</td>\n",
              "      <td>4.000000</td>\n",
              "      <td>34.000000</td>\n",
              "      <td>40.000000</td>\n",
              "    </tr>\n",
              "    <tr>\n",
              "      <th>50%</th>\n",
              "      <td>8690.0000</td>\n",
              "      <td>3.000000</td>\n",
              "      <td>1.000000</td>\n",
              "      <td>7.000000</td>\n",
              "      <td>12.000000</td>\n",
              "      <td>0.000000</td>\n",
              "      <td>3.000000</td>\n",
              "      <td>1.000000</td>\n",
              "      <td>1.000000</td>\n",
              "      <td>0.500000</td>\n",
              "      <td>0.484800</td>\n",
              "      <td>0.630000</td>\n",
              "      <td>0.194000</td>\n",
              "      <td>17.000000</td>\n",
              "      <td>115.000000</td>\n",
              "      <td>142.000000</td>\n",
              "    </tr>\n",
              "    <tr>\n",
              "      <th>75%</th>\n",
              "      <td>13034.5000</td>\n",
              "      <td>3.000000</td>\n",
              "      <td>1.000000</td>\n",
              "      <td>10.000000</td>\n",
              "      <td>18.000000</td>\n",
              "      <td>0.000000</td>\n",
              "      <td>5.000000</td>\n",
              "      <td>1.000000</td>\n",
              "      <td>2.000000</td>\n",
              "      <td>0.660000</td>\n",
              "      <td>0.621200</td>\n",
              "      <td>0.780000</td>\n",
              "      <td>0.253700</td>\n",
              "      <td>48.000000</td>\n",
              "      <td>220.000000</td>\n",
              "      <td>281.000000</td>\n",
              "    </tr>\n",
              "    <tr>\n",
              "      <th>max</th>\n",
              "      <td>17379.0000</td>\n",
              "      <td>4.000000</td>\n",
              "      <td>1.000000</td>\n",
              "      <td>12.000000</td>\n",
              "      <td>23.000000</td>\n",
              "      <td>1.000000</td>\n",
              "      <td>6.000000</td>\n",
              "      <td>1.000000</td>\n",
              "      <td>4.000000</td>\n",
              "      <td>1.000000</td>\n",
              "      <td>1.000000</td>\n",
              "      <td>1.000000</td>\n",
              "      <td>0.850700</td>\n",
              "      <td>367.000000</td>\n",
              "      <td>886.000000</td>\n",
              "      <td>977.000000</td>\n",
              "    </tr>\n",
              "  </tbody>\n",
              "</table>\n",
              "</div>"
            ],
            "text/plain": [
              "          instant        season  ...    registered           cnt\n",
              "count  17379.0000  17379.000000  ...  17379.000000  17379.000000\n",
              "mean    8690.0000      2.501640  ...    153.786869    189.463088\n",
              "std     5017.0295      1.106918  ...    151.357286    181.387599\n",
              "min        1.0000      1.000000  ...      0.000000      1.000000\n",
              "25%     4345.5000      2.000000  ...     34.000000     40.000000\n",
              "50%     8690.0000      3.000000  ...    115.000000    142.000000\n",
              "75%    13034.5000      3.000000  ...    220.000000    281.000000\n",
              "max    17379.0000      4.000000  ...    886.000000    977.000000\n",
              "\n",
              "[8 rows x 16 columns]"
            ]
          },
          "metadata": {
            "tags": []
          },
          "execution_count": 14
        }
      ]
    },
    {
      "cell_type": "code",
      "metadata": {
        "id": "A401msAIdpSB",
        "colab": {
          "base_uri": "https://localhost:8080/",
          "height": 568
        },
        "outputId": "4770486e-efa8-44da-a89d-a9c2ffd4a82c"
      },
      "source": [
        "plt.figure(figsize=(12,8))\n",
        "sns.set_style('darkgrid')\n",
        "sns.distplot(bike_rentals.cnt)"
      ],
      "execution_count": 15,
      "outputs": [
        {
          "output_type": "stream",
          "text": [
            "/usr/local/lib/python3.7/dist-packages/seaborn/distributions.py:2557: FutureWarning: `distplot` is a deprecated function and will be removed in a future version. Please adapt your code to use either `displot` (a figure-level function with similar flexibility) or `histplot` (an axes-level function for histograms).\n",
            "  warnings.warn(msg, FutureWarning)\n"
          ],
          "name": "stderr"
        },
        {
          "output_type": "execute_result",
          "data": {
            "text/plain": [
              "<matplotlib.axes._subplots.AxesSubplot at 0x7f6a9dfb8790>"
            ]
          },
          "metadata": {
            "tags": []
          },
          "execution_count": 15
        },
        {
          "output_type": "display_data",
          "data": {
            "image/png": "[encoded data removed]",
            "text/plain": [
              "<Figure size 864x576 with 1 Axes>"
            ]
          },
          "metadata": {
            "tags": [],
            "needs_background": "light"
          }
        }
      ]
    },
    {
      "cell_type": "code",
      "metadata": {
        "id": "fBn0EC1xeBRA",
        "colab": {
          "base_uri": "https://localhost:8080/",
          "height": 565
        },
        "outputId": "89e8d0fb-b695-4ac1-8483-71748854918c"
      },
      "source": [
        "# Calcular a correlação entre as variaveis\n",
        "bike_rentals.corr()"
      ],
      "execution_count": 16,
      "outputs": [
        {
          "output_type": "execute_result",
          "data": {
            "text/html": [
              "<div>\n",
              "<style scoped>\n",
              "    .dataframe tbody tr th:only-of-type {\n",
              "        vertical-align: middle;\n",
              "    }\n",
              "\n",
              "    .dataframe tbody tr th {\n",
              "        vertical-align: top;\n",
              "    }\n",
              "\n",
              "    .dataframe thead th {\n",
              "        text-align: right;\n",
              "    }\n",
              "</style>\n",
              "<table border=\"1\" class=\"dataframe\">\n",
              "  <thead>\n",
              "    <tr style=\"text-align: right;\">\n",
              "      <th></th>\n",
              "      <th>instant</th>\n",
              "      <th>season</th>\n",
              "      <th>yr</th>\n",
              "      <th>mnth</th>\n",
              "      <th>hr</th>\n",
              "      <th>holiday</th>\n",
              "      <th>weekday</th>\n",
              "      <th>workingday</th>\n",
              "      <th>weathersit</th>\n",
              "      <th>temp</th>\n",
              "      <th>atemp</th>\n",
              "      <th>hum</th>\n",
              "      <th>windspeed</th>\n",
              "      <th>casual</th>\n",
              "      <th>registered</th>\n",
              "      <th>cnt</th>\n",
              "    </tr>\n",
              "  </thead>\n",
              "  <tbody>\n",
              "    <tr>\n",
              "      <th>instant</th>\n",
              "      <td>1.000000</td>\n",
              "      <td>0.404046</td>\n",
              "      <td>0.866014</td>\n",
              "      <td>0.489164</td>\n",
              "      <td>-0.004775</td>\n",
              "      <td>0.014723</td>\n",
              "      <td>0.001357</td>\n",
              "      <td>-0.003416</td>\n",
              "      <td>-0.014198</td>\n",
              "      <td>0.136178</td>\n",
              "      <td>0.137615</td>\n",
              "      <td>0.009577</td>\n",
              "      <td>-0.074505</td>\n",
              "      <td>0.158295</td>\n",
              "      <td>0.282046</td>\n",
              "      <td>0.278379</td>\n",
              "    </tr>\n",
              "    <tr>\n",
              "      <th>season</th>\n",
              "      <td>0.404046</td>\n",
              "      <td>1.000000</td>\n",
              "      <td>-0.010742</td>\n",
              "      <td>0.830386</td>\n",
              "      <td>-0.006117</td>\n",
              "      <td>-0.009585</td>\n",
              "      <td>-0.002335</td>\n",
              "      <td>0.013743</td>\n",
              "      <td>-0.014524</td>\n",
              "      <td>0.312025</td>\n",
              "      <td>0.319380</td>\n",
              "      <td>0.150625</td>\n",
              "      <td>-0.149773</td>\n",
              "      <td>0.120206</td>\n",
              "      <td>0.174226</td>\n",
              "      <td>0.178056</td>\n",
              "    </tr>\n",
              "    <tr>\n",
              "      <th>yr</th>\n",
              "      <td>0.866014</td>\n",
              "      <td>-0.010742</td>\n",
              "      <td>1.000000</td>\n",
              "      <td>-0.010473</td>\n",
              "      <td>-0.003867</td>\n",
              "      <td>0.006692</td>\n",
              "      <td>-0.004485</td>\n",
              "      <td>-0.002196</td>\n",
              "      <td>-0.019157</td>\n",
              "      <td>0.040913</td>\n",
              "      <td>0.039222</td>\n",
              "      <td>-0.083546</td>\n",
              "      <td>-0.008740</td>\n",
              "      <td>0.142779</td>\n",
              "      <td>0.253684</td>\n",
              "      <td>0.250495</td>\n",
              "    </tr>\n",
              "    <tr>\n",
              "      <th>mnth</th>\n",
              "      <td>0.489164</td>\n",
              "      <td>0.830386</td>\n",
              "      <td>-0.010473</td>\n",
              "      <td>1.000000</td>\n",
              "      <td>-0.005772</td>\n",
              "      <td>0.018430</td>\n",
              "      <td>0.010400</td>\n",
              "      <td>-0.003477</td>\n",
              "      <td>0.005400</td>\n",
              "      <td>0.201691</td>\n",
              "      <td>0.208096</td>\n",
              "      <td>0.164411</td>\n",
              "      <td>-0.135386</td>\n",
              "      <td>0.068457</td>\n",
              "      <td>0.122273</td>\n",
              "      <td>0.120638</td>\n",
              "    </tr>\n",
              "    <tr>\n",
              "      <th>hr</th>\n",
              "      <td>-0.004775</td>\n",
              "      <td>-0.006117</td>\n",
              "      <td>-0.003867</td>\n",
              "      <td>-0.005772</td>\n",
              "      <td>1.000000</td>\n",
              "      <td>0.000479</td>\n",
              "      <td>-0.003498</td>\n",
              "      <td>0.002285</td>\n",
              "      <td>-0.020203</td>\n",
              "      <td>0.137603</td>\n",
              "      <td>0.133750</td>\n",
              "      <td>-0.276498</td>\n",
              "      <td>0.137252</td>\n",
              "      <td>0.301202</td>\n",
              "      <td>0.374141</td>\n",
              "      <td>0.394071</td>\n",
              "    </tr>\n",
              "    <tr>\n",
              "      <th>holiday</th>\n",
              "      <td>0.014723</td>\n",
              "      <td>-0.009585</td>\n",
              "      <td>0.006692</td>\n",
              "      <td>0.018430</td>\n",
              "      <td>0.000479</td>\n",
              "      <td>1.000000</td>\n",
              "      <td>-0.102088</td>\n",
              "      <td>-0.252471</td>\n",
              "      <td>-0.017036</td>\n",
              "      <td>-0.027340</td>\n",
              "      <td>-0.030973</td>\n",
              "      <td>-0.010588</td>\n",
              "      <td>0.003988</td>\n",
              "      <td>0.031564</td>\n",
              "      <td>-0.047345</td>\n",
              "      <td>-0.030927</td>\n",
              "    </tr>\n",
              "    <tr>\n",
              "      <th>weekday</th>\n",
              "      <td>0.001357</td>\n",
              "      <td>-0.002335</td>\n",
              "      <td>-0.004485</td>\n",
              "      <td>0.010400</td>\n",
              "      <td>-0.003498</td>\n",
              "      <td>-0.102088</td>\n",
              "      <td>1.000000</td>\n",
              "      <td>0.035955</td>\n",
              "      <td>0.003311</td>\n",
              "      <td>-0.001795</td>\n",
              "      <td>-0.008821</td>\n",
              "      <td>-0.037158</td>\n",
              "      <td>0.011502</td>\n",
              "      <td>0.032721</td>\n",
              "      <td>0.021578</td>\n",
              "      <td>0.026900</td>\n",
              "    </tr>\n",
              "    <tr>\n",
              "      <th>workingday</th>\n",
              "      <td>-0.003416</td>\n",
              "      <td>0.013743</td>\n",
              "      <td>-0.002196</td>\n",
              "      <td>-0.003477</td>\n",
              "      <td>0.002285</td>\n",
              "      <td>-0.252471</td>\n",
              "      <td>0.035955</td>\n",
              "      <td>1.000000</td>\n",
              "      <td>0.044672</td>\n",
              "      <td>0.055390</td>\n",
              "      <td>0.054667</td>\n",
              "      <td>0.015688</td>\n",
              "      <td>-0.011830</td>\n",
              "      <td>-0.300942</td>\n",
              "      <td>0.134326</td>\n",
              "      <td>0.030284</td>\n",
              "    </tr>\n",
              "    <tr>\n",
              "      <th>weathersit</th>\n",
              "      <td>-0.014198</td>\n",
              "      <td>-0.014524</td>\n",
              "      <td>-0.019157</td>\n",
              "      <td>0.005400</td>\n",
              "      <td>-0.020203</td>\n",
              "      <td>-0.017036</td>\n",
              "      <td>0.003311</td>\n",
              "      <td>0.044672</td>\n",
              "      <td>1.000000</td>\n",
              "      <td>-0.102640</td>\n",
              "      <td>-0.105563</td>\n",
              "      <td>0.418130</td>\n",
              "      <td>0.026226</td>\n",
              "      <td>-0.152628</td>\n",
              "      <td>-0.120966</td>\n",
              "      <td>-0.142426</td>\n",
              "    </tr>\n",
              "    <tr>\n",
              "      <th>temp</th>\n",
              "      <td>0.136178</td>\n",
              "      <td>0.312025</td>\n",
              "      <td>0.040913</td>\n",
              "      <td>0.201691</td>\n",
              "      <td>0.137603</td>\n",
              "      <td>-0.027340</td>\n",
              "      <td>-0.001795</td>\n",
              "      <td>0.055390</td>\n",
              "      <td>-0.102640</td>\n",
              "      <td>1.000000</td>\n",
              "      <td>0.987672</td>\n",
              "      <td>-0.069881</td>\n",
              "      <td>-0.023125</td>\n",
              "      <td>0.459616</td>\n",
              "      <td>0.335361</td>\n",
              "      <td>0.404772</td>\n",
              "    </tr>\n",
              "    <tr>\n",
              "      <th>atemp</th>\n",
              "      <td>0.137615</td>\n",
              "      <td>0.319380</td>\n",
              "      <td>0.039222</td>\n",
              "      <td>0.208096</td>\n",
              "      <td>0.133750</td>\n",
              "      <td>-0.030973</td>\n",
              "      <td>-0.008821</td>\n",
              "      <td>0.054667</td>\n",
              "      <td>-0.105563</td>\n",
              "      <td>0.987672</td>\n",
              "      <td>1.000000</td>\n",
              "      <td>-0.051918</td>\n",
              "      <td>-0.062336</td>\n",
              "      <td>0.454080</td>\n",
              "      <td>0.332559</td>\n",
              "      <td>0.400929</td>\n",
              "    </tr>\n",
              "    <tr>\n",
              "      <th>hum</th>\n",
              "      <td>0.009577</td>\n",
              "      <td>0.150625</td>\n",
              "      <td>-0.083546</td>\n",
              "      <td>0.164411</td>\n",
              "      <td>-0.276498</td>\n",
              "      <td>-0.010588</td>\n",
              "      <td>-0.037158</td>\n",
              "      <td>0.015688</td>\n",
              "      <td>0.418130</td>\n",
              "      <td>-0.069881</td>\n",
              "      <td>-0.051918</td>\n",
              "      <td>1.000000</td>\n",
              "      <td>-0.290105</td>\n",
              "      <td>-0.347028</td>\n",
              "      <td>-0.273933</td>\n",
              "      <td>-0.322911</td>\n",
              "    </tr>\n",
              "    <tr>\n",
              "      <th>windspeed</th>\n",
              "      <td>-0.074505</td>\n",
              "      <td>-0.149773</td>\n",
              "      <td>-0.008740</td>\n",
              "      <td>-0.135386</td>\n",
              "      <td>0.137252</td>\n",
              "      <td>0.003988</td>\n",
              "      <td>0.011502</td>\n",
              "      <td>-0.011830</td>\n",
              "      <td>0.026226</td>\n",
              "      <td>-0.023125</td>\n",
              "      <td>-0.062336</td>\n",
              "      <td>-0.290105</td>\n",
              "      <td>1.000000</td>\n",
              "      <td>0.090287</td>\n",
              "      <td>0.082321</td>\n",
              "      <td>0.093234</td>\n",
              "    </tr>\n",
              "    <tr>\n",
              "      <th>casual</th>\n",
              "      <td>0.158295</td>\n",
              "      <td>0.120206</td>\n",
              "      <td>0.142779</td>\n",
              "      <td>0.068457</td>\n",
              "      <td>0.301202</td>\n",
              "      <td>0.031564</td>\n",
              "      <td>0.032721</td>\n",
              "      <td>-0.300942</td>\n",
              "      <td>-0.152628</td>\n",
              "      <td>0.459616</td>\n",
              "      <td>0.454080</td>\n",
              "      <td>-0.347028</td>\n",
              "      <td>0.090287</td>\n",
              "      <td>1.000000</td>\n",
              "      <td>0.506618</td>\n",
              "      <td>0.694564</td>\n",
              "    </tr>\n",
              "    <tr>\n",
              "      <th>registered</th>\n",
              "      <td>0.282046</td>\n",
              "      <td>0.174226</td>\n",
              "      <td>0.253684</td>\n",
              "      <td>0.122273</td>\n",
              "      <td>0.374141</td>\n",
              "      <td>-0.047345</td>\n",
              "      <td>0.021578</td>\n",
              "      <td>0.134326</td>\n",
              "      <td>-0.120966</td>\n",
              "      <td>0.335361</td>\n",
              "      <td>0.332559</td>\n",
              "      <td>-0.273933</td>\n",
              "      <td>0.082321</td>\n",
              "      <td>0.506618</td>\n",
              "      <td>1.000000</td>\n",
              "      <td>0.972151</td>\n",
              "    </tr>\n",
              "    <tr>\n",
              "      <th>cnt</th>\n",
              "      <td>0.278379</td>\n",
              "      <td>0.178056</td>\n",
              "      <td>0.250495</td>\n",
              "      <td>0.120638</td>\n",
              "      <td>0.394071</td>\n",
              "      <td>-0.030927</td>\n",
              "      <td>0.026900</td>\n",
              "      <td>0.030284</td>\n",
              "      <td>-0.142426</td>\n",
              "      <td>0.404772</td>\n",
              "      <td>0.400929</td>\n",
              "      <td>-0.322911</td>\n",
              "      <td>0.093234</td>\n",
              "      <td>0.694564</td>\n",
              "      <td>0.972151</td>\n",
              "      <td>1.000000</td>\n",
              "    </tr>\n",
              "  </tbody>\n",
              "</table>\n",
              "</div>"
            ],
            "text/plain": [
              "             instant    season        yr  ...    casual  registered       cnt\n",
              "instant     1.000000  0.404046  0.866014  ...  0.158295    0.282046  0.278379\n",
              "season      0.404046  1.000000 -0.010742  ...  0.120206    0.174226  0.178056\n",
              "yr          0.866014 -0.010742  1.000000  ...  0.142779    0.253684  0.250495\n",
              "mnth        0.489164  0.830386 -0.010473  ...  0.068457    0.122273  0.120638\n",
              "hr         -0.004775 -0.006117 -0.003867  ...  0.301202    0.374141  0.394071\n",
              "holiday     0.014723 -0.009585  0.006692  ...  0.031564   -0.047345 -0.030927\n",
              "weekday     0.001357 -0.002335 -0.004485  ...  0.032721    0.021578  0.026900\n",
              "workingday -0.003416  0.013743 -0.002196  ... -0.300942    0.134326  0.030284\n",
              "weathersit -0.014198 -0.014524 -0.019157  ... -0.152628   -0.120966 -0.142426\n",
              "temp        0.136178  0.312025  0.040913  ...  0.459616    0.335361  0.404772\n",
              "atemp       0.137615  0.319380  0.039222  ...  0.454080    0.332559  0.400929\n",
              "hum         0.009577  0.150625 -0.083546  ... -0.347028   -0.273933 -0.322911\n",
              "windspeed  -0.074505 -0.149773 -0.008740  ...  0.090287    0.082321  0.093234\n",
              "casual      0.158295  0.120206  0.142779  ...  1.000000    0.506618  0.694564\n",
              "registered  0.282046  0.174226  0.253684  ...  0.506618    1.000000  0.972151\n",
              "cnt         0.278379  0.178056  0.250495  ...  0.694564    0.972151  1.000000\n",
              "\n",
              "[16 rows x 16 columns]"
            ]
          },
          "metadata": {
            "tags": []
          },
          "execution_count": 16
        }
      ]
    },
    {
      "cell_type": "code",
      "metadata": {
        "id": "LkHlB4MteWgR",
        "colab": {
          "base_uri": "https://localhost:8080/"
        },
        "outputId": "33d2b744-9b40-4030-96d2-08b1c482c3a4"
      },
      "source": [
        "# Filtrar as correlações com a minha variavel target 'cnt'\n",
        "correlations = bike_rentals.corr()\n",
        "correlations['cnt']"
      ],
      "execution_count": 17,
      "outputs": [
        {
          "output_type": "execute_result",
          "data": {
            "text/plain": [
              "instant       0.278379\n",
              "season        0.178056\n",
              "yr            0.250495\n",
              "mnth          0.120638\n",
              "hr            0.394071\n",
              "holiday      -0.030927\n",
              "weekday       0.026900\n",
              "workingday    0.030284\n",
              "weathersit   -0.142426\n",
              "temp          0.404772\n",
              "atemp         0.400929\n",
              "hum          -0.322911\n",
              "windspeed     0.093234\n",
              "casual        0.694564\n",
              "registered    0.972151\n",
              "cnt           1.000000\n",
              "Name: cnt, dtype: float64"
            ]
          },
          "metadata": {
            "tags": []
          },
          "execution_count": 17
        }
      ]
    },
    {
      "cell_type": "code",
      "metadata": {
        "id": "bygZ_-pyelfJ",
        "colab": {
          "base_uri": "https://localhost:8080/"
        },
        "outputId": "1c976a5c-079a-41a9-9343-af3d90ed98ef"
      },
      "source": [
        "columns = bike_rentals.columns.drop(['cnt', 'casual', 'dteday', 'registered'])\n",
        "columns"
      ],
      "execution_count": 18,
      "outputs": [
        {
          "output_type": "execute_result",
          "data": {
            "text/plain": [
              "Index(['instant', 'season', 'yr', 'mnth', 'hr', 'holiday', 'weekday',\n",
              "       'workingday', 'weathersit', 'temp', 'atemp', 'hum', 'windspeed'],\n",
              "      dtype='object')"
            ]
          },
          "metadata": {
            "tags": []
          },
          "execution_count": 18
        }
      ]
    },
    {
      "cell_type": "code",
      "metadata": {
        "id": "-rpv3SlCfcPh"
      },
      "source": [
        "from sklearn.model_selection import train_test_split"
      ],
      "execution_count": 19,
      "outputs": []
    },
    {
      "cell_type": "code",
      "metadata": {
        "id": "AEK1hCgUfyYh"
      },
      "source": [
        "X_train,X_test,y_train,y_test = train_test_split(bike_rentals[columns], bike_rentals['cnt'],test_size=0.2,random_state=42)"
      ],
      "execution_count": 20,
      "outputs": []
    },
    {
      "cell_type": "code",
      "metadata": {
        "id": "Zg8o5fJrglew"
      },
      "source": [
        "algoritmo = LinearRegression()"
      ],
      "execution_count": 21,
      "outputs": []
    },
    {
      "cell_type": "code",
      "metadata": {
        "id": "jPEZIpy4gnjI"
      },
      "source": [
        "modelo = algoritmo.fit(X_train,y_train)"
      ],
      "execution_count": 22,
      "outputs": []
    },
    {
      "cell_type": "code",
      "metadata": {
        "id": "SyFSNQA7hKt3"
      },
      "source": [
        "resultado = modelo.predict(X_test)"
      ],
      "execution_count": 23,
      "outputs": []
    },
    {
      "cell_type": "code",
      "metadata": {
        "id": "wyxO0fMPhsY4",
        "colab": {
          "base_uri": "https://localhost:8080/"
        },
        "outputId": "2a4abdd4-b303-49ad-fe64-533958b52bd3"
      },
      "source": [
        "mean_squared_error(y_test, resultado)"
      ],
      "execution_count": 24,
      "outputs": [
        {
          "output_type": "execute_result",
          "data": {
            "text/plain": [
              "19376.952766955474"
            ]
          },
          "metadata": {
            "tags": []
          },
          "execution_count": 24
        }
      ]
    },
    {
      "cell_type": "code",
      "metadata": {
        "id": "Ll6qNjLdhxvw",
        "colab": {
          "base_uri": "https://localhost:8080/"
        },
        "outputId": "dcec2cf8-429b-462d-cd91-b4007253cfa3"
      },
      "source": [
        "modelo.score(X_test,y_test)"
      ],
      "execution_count": 25,
      "outputs": [
        {
          "output_type": "execute_result",
          "data": {
            "text/plain": [
              "0.3880719703569244"
            ]
          },
          "metadata": {
            "tags": []
          },
          "execution_count": 25
        }
      ]
    },
    {
      "cell_type": "code",
      "metadata": {
        "id": "VFHvcfFFiEP3"
      },
      "source": [
        "# mean_square_error muito alto\n",
        "# score muito baixo\n",
        "# modelo de regressão linear não está performando bem"
      ],
      "execution_count": 26,
      "outputs": []
    },
    {
      "cell_type": "code",
      "metadata": {
        "id": "yf72519VislP"
      },
      "source": [
        "resultados_treino = modelo.predict(X_train)"
      ],
      "execution_count": 27,
      "outputs": []
    },
    {
      "cell_type": "code",
      "metadata": {
        "id": "hoL83Seoi5av",
        "colab": {
          "base_uri": "https://localhost:8080/"
        },
        "outputId": "a6faaecd-de59-41c5-b498-de8ec6762d15"
      },
      "source": [
        "mean_squared_error(y_train, resultados_treino)"
      ],
      "execution_count": 28,
      "outputs": [
        {
          "output_type": "execute_result",
          "data": {
            "text/plain": [
              "20292.14100917642"
            ]
          },
          "metadata": {
            "tags": []
          },
          "execution_count": 28
        }
      ]
    },
    {
      "cell_type": "code",
      "metadata": {
        "id": "s4xTROESi_dO",
        "colab": {
          "base_uri": "https://localhost:8080/"
        },
        "outputId": "83863eb8-2ca4-46bb-e0e8-84f8cf7b4d82"
      },
      "source": [
        "modelo.score(X_train,y_train)"
      ],
      "execution_count": 29,
      "outputs": [
        {
          "output_type": "execute_result",
          "data": {
            "text/plain": [
              "0.38882636769645695"
            ]
          },
          "metadata": {
            "tags": []
          },
          "execution_count": 29
        }
      ]
    },
    {
      "cell_type": "code",
      "metadata": {
        "id": "cqESAT1bjDkW"
      },
      "source": [
        "# Arvore de decisão\n",
        "algoritmo_tree = DecisionTreeRegressor()"
      ],
      "execution_count": 30,
      "outputs": []
    },
    {
      "cell_type": "code",
      "metadata": {
        "id": "vOQtAThBj9fs"
      },
      "source": [
        "modelo_tree = algoritmo_tree.fit(X_train,y_train)"
      ],
      "execution_count": 31,
      "outputs": []
    },
    {
      "cell_type": "code",
      "metadata": {
        "id": "qJ3aQ6yOkCxG"
      },
      "source": [
        "resultado_tree = modelo_tree.predict(X_test)"
      ],
      "execution_count": 32,
      "outputs": []
    },
    {
      "cell_type": "code",
      "metadata": {
        "id": "mBHhAusVkP3-",
        "colab": {
          "base_uri": "https://localhost:8080/"
        },
        "outputId": "a0e4576c-39f7-48a1-c1a2-a9c4cbcff2a0"
      },
      "source": [
        "mean_squared_error(y_test, resultado_tree)"
      ],
      "execution_count": 33,
      "outputs": [
        {
          "output_type": "execute_result",
          "data": {
            "text/plain": [
              "3460.7663981588034"
            ]
          },
          "metadata": {
            "tags": []
          },
          "execution_count": 33
        }
      ]
    },
    {
      "cell_type": "code",
      "metadata": {
        "id": "DV7rwBt3ke5O",
        "colab": {
          "base_uri": "https://localhost:8080/"
        },
        "outputId": "4bf45f56-af2b-49d6-de54-f1db80cd9683"
      },
      "source": [
        "modelo_tree.score(X_test,y_test)"
      ],
      "execution_count": 34,
      "outputs": [
        {
          "output_type": "execute_result",
          "data": {
            "text/plain": [
              "0.890708307516145"
            ]
          },
          "metadata": {
            "tags": []
          },
          "execution_count": 34
        }
      ]
    },
    {
      "cell_type": "code",
      "metadata": {
        "id": "7RISovWzkj1u"
      },
      "source": [
        "# Random_forest\n",
        "# missão de resolver o problema de overfitting\n",
        "# que ocorre na arvore de decisão atraves de metodo ensemble\n",
        "tree_rf = RandomForestRegressor()"
      ],
      "execution_count": 35,
      "outputs": []
    },
    {
      "cell_type": "code",
      "metadata": {
        "id": "bRLrFPrvllRN"
      },
      "source": [
        "modelo_tree_rf = tree_rf.fit(X_train,y_train)"
      ],
      "execution_count": 36,
      "outputs": []
    },
    {
      "cell_type": "code",
      "metadata": {
        "id": "Ts8P9YLol69W"
      },
      "source": [
        "resultado_tree_rf = modelo_tree_rf.predict(X_test)"
      ],
      "execution_count": 37,
      "outputs": []
    },
    {
      "cell_type": "code",
      "metadata": {
        "id": "lTqkyTkTmEoV",
        "colab": {
          "base_uri": "https://localhost:8080/"
        },
        "outputId": "01236f3a-562a-402d-906f-346156e27fca"
      },
      "source": [
        "mean_squared_error(y_test,resultado_tree_rf)"
      ],
      "execution_count": 38,
      "outputs": [
        {
          "output_type": "execute_result",
          "data": {
            "text/plain": [
              "1669.9317839470657"
            ]
          },
          "metadata": {
            "tags": []
          },
          "execution_count": 38
        }
      ]
    },
    {
      "cell_type": "code",
      "metadata": {
        "id": "vNh1zpJPmIb1",
        "colab": {
          "base_uri": "https://localhost:8080/"
        },
        "outputId": "9782691d-0344-4a56-fa98-a70029351f9f"
      },
      "source": [
        "modelo_tree_rf.score(X_train,y_train)"
      ],
      "execution_count": 39,
      "outputs": [
        {
          "output_type": "execute_result",
          "data": {
            "text/plain": [
              "0.9930154109580958"
            ]
          },
          "metadata": {
            "tags": []
          },
          "execution_count": 39
        }
      ]
    },
    {
      "cell_type": "code",
      "metadata": {
        "id": "k2LpNf_bmN6N"
      },
      "source": [
        "# Ajustando os Hiperparametros do random Forest"
      ],
      "execution_count": 40,
      "outputs": []
    },
    {
      "cell_type": "code",
      "metadata": {
        "id": "wCiLs_SBmuel"
      },
      "source": [
        "from sklearn.model_selection import GridSearchCV\n",
        "# testes exaustivos e encontrar os melhores parametros"
      ],
      "execution_count": 41,
      "outputs": []
    },
    {
      "cell_type": "code",
      "metadata": {
        "id": "CZqWHMqCm1kd"
      },
      "source": [
        "parametros = {'min_samples_leaf':[1,10],'min_samples_split':[2,10],'n_estimators':[100,250,500,750]}"
      ],
      "execution_count": 42,
      "outputs": []
    },
    {
      "cell_type": "code",
      "metadata": {
        "id": "3QQcBY5pm8iV"
      },
      "source": [
        "# instanciando o RandomForest e GridSearch\n",
        "rf = RandomForestRegressor()\n",
        "grid = GridSearchCV(rf, parametros)"
      ],
      "execution_count": 43,
      "outputs": []
    },
    {
      "cell_type": "code",
      "metadata": {
        "id": "x-PzkKsfngvk",
        "colab": {
          "base_uri": "https://localhost:8080/"
        },
        "outputId": "793fd7ff-476a-409e-907d-dbdb7c1117a4"
      },
      "source": [
        "grid.fit(X_train,y_train)"
      ],
      "execution_count": 44,
      "outputs": [
        {
          "output_type": "execute_result",
          "data": {
            "text/plain": [
              "GridSearchCV(cv=None, error_score=nan,\n",
              "             estimator=RandomForestRegressor(bootstrap=True, ccp_alpha=0.0,\n",
              "                                             criterion='mse', max_depth=None,\n",
              "                                             max_features='auto',\n",
              "                                             max_leaf_nodes=None,\n",
              "                                             max_samples=None,\n",
              "                                             min_impurity_decrease=0.0,\n",
              "                                             min_impurity_split=None,\n",
              "                                             min_samples_leaf=1,\n",
              "                                             min_samples_split=2,\n",
              "                                             min_weight_fraction_leaf=0.0,\n",
              "                                             n_estimators=100, n_jobs=None,\n",
              "                                             oob_score=False, random_state=None,\n",
              "                                             verbose=0, warm_start=False),\n",
              "             iid='deprecated', n_jobs=None,\n",
              "             param_grid={'min_samples_leaf': [1, 10],\n",
              "                         'min_samples_split': [2, 10],\n",
              "                         'n_estimators': [100, 250, 500, 750]},\n",
              "             pre_dispatch='2*n_jobs', refit=True, return_train_score=False,\n",
              "             scoring=None, verbose=0)"
            ]
          },
          "metadata": {
            "tags": []
          },
          "execution_count": 44
        }
      ]
    },
    {
      "cell_type": "code",
      "metadata": {
        "id": "XFRu1wdTnmFN",
        "colab": {
          "base_uri": "https://localhost:8080/"
        },
        "outputId": "80e40b6c-e970-484c-afe4-984291d56d45"
      },
      "source": [
        "grid.best_params_"
      ],
      "execution_count": 45,
      "outputs": [
        {
          "output_type": "execute_result",
          "data": {
            "text/plain": [
              "{'min_samples_leaf': 1, 'min_samples_split': 2, 'n_estimators': 750}"
            ]
          },
          "metadata": {
            "tags": []
          },
          "execution_count": 45
        }
      ]
    },
    {
      "cell_type": "code",
      "metadata": {
        "id": "tXTq3mgwwVm2"
      },
      "source": [
        "rf_best = grid.best_estimator_"
      ],
      "execution_count": 46,
      "outputs": []
    },
    {
      "cell_type": "code",
      "metadata": {
        "id": "EiJu9_bO03G2"
      },
      "source": [
        "resultado_final = rf_best.predict(X_test)"
      ],
      "execution_count": 47,
      "outputs": []
    },
    {
      "cell_type": "code",
      "metadata": {
        "id": "g2Ulkt8809fm",
        "colab": {
          "base_uri": "https://localhost:8080/"
        },
        "outputId": "6ede0f32-1087-4709-d4a8-26122f07942e"
      },
      "source": [
        "mean_squared_error(y_test,resultado_final)"
      ],
      "execution_count": 48,
      "outputs": [
        {
          "output_type": "execute_result",
          "data": {
            "text/plain": [
              "1636.5717630655927"
            ]
          },
          "metadata": {
            "tags": []
          },
          "execution_count": 48
        }
      ]
    },
    {
      "cell_type": "code",
      "metadata": {
        "id": "ftHS6g371CEO",
        "colab": {
          "base_uri": "https://localhost:8080/"
        },
        "outputId": "4ac02d1c-e88a-4d30-bcd0-05aa9f143939"
      },
      "source": [
        "rf_best.score(X_test,y_test)"
      ],
      "execution_count": 49,
      "outputs": [
        {
          "output_type": "execute_result",
          "data": {
            "text/plain": [
              "0.948316737601277"
            ]
          },
          "metadata": {
            "tags": []
          },
          "execution_count": 49
        }
      ]
    }
  ]
}